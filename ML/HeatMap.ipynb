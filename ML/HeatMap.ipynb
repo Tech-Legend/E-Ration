{
 "cells": [
  {
   "cell_type": "code",
   "execution_count": null,
   "id": "26547c5d",
   "metadata": {},
   "outputs": [],
   "source": [
    "import pandas as pd"
   ]
  },
  {
   "cell_type": "code",
   "execution_count": null,
   "id": "c7575705",
   "metadata": {},
   "outputs": [],
   "source": [
    "!pip install xlrd"
   ]
  },
  {
   "cell_type": "code",
   "execution_count": 3,
   "id": "49f19ab1",
   "metadata": {},
   "outputs": [],
   "source": [
    "df= pd.read_excel(\"C:/Projects/Ration/Power BI/Date Wise - Overall.xlsx\")"
   ]
  },
  {
   "cell_type": "code",
   "execution_count": 4,
   "id": "614e1997",
   "metadata": {},
   "outputs": [
    {
     "data": {
      "text/html": [
       "<div>\n",
       "<style scoped>\n",
       "    .dataframe tbody tr th:only-of-type {\n",
       "        vertical-align: middle;\n",
       "    }\n",
       "\n",
       "    .dataframe tbody tr th {\n",
       "        vertical-align: top;\n",
       "    }\n",
       "\n",
       "    .dataframe thead th {\n",
       "        text-align: right;\n",
       "    }\n",
       "</style>\n",
       "<table border=\"1\" class=\"dataframe\">\n",
       "  <thead>\n",
       "    <tr style=\"text-align: right;\">\n",
       "      <th></th>\n",
       "      <th>DISTRICT NAME</th>\n",
       "      <th>DISTRICT CODE</th>\n",
       "      <th>TALUK COUNT</th>\n",
       "      <th>FPS COUNT</th>\n",
       "      <th>RATION CARD COUNT</th>\n",
       "      <th>RICE(KG)</th>\n",
       "      <th>WHEAT(KG)</th>\n",
       "      <th>Date</th>\n",
       "    </tr>\n",
       "  </thead>\n",
       "  <tbody>\n",
       "    <tr>\n",
       "      <th>0</th>\n",
       "      <td>Thiruvallur</td>\n",
       "      <td>1</td>\n",
       "      <td>9</td>\n",
       "      <td>1117</td>\n",
       "      <td>587173</td>\n",
       "      <td>9210582.2</td>\n",
       "      <td>515678.4</td>\n",
       "      <td>2021-01-01</td>\n",
       "    </tr>\n",
       "    <tr>\n",
       "      <th>1</th>\n",
       "      <td>North Chennai</td>\n",
       "      <td>2</td>\n",
       "      <td>9</td>\n",
       "      <td>952</td>\n",
       "      <td>1096558</td>\n",
       "      <td>10877337.0</td>\n",
       "      <td>1230985.0</td>\n",
       "      <td>2021-01-01</td>\n",
       "    </tr>\n",
       "    <tr>\n",
       "      <th>2</th>\n",
       "      <td>South Chennai</td>\n",
       "      <td>2</td>\n",
       "      <td>8</td>\n",
       "      <td>816</td>\n",
       "      <td>969272</td>\n",
       "      <td>8212479.5</td>\n",
       "      <td>1102172.5</td>\n",
       "      <td>2021-01-01</td>\n",
       "    </tr>\n",
       "    <tr>\n",
       "      <th>3</th>\n",
       "      <td>Kanchipuram</td>\n",
       "      <td>3</td>\n",
       "      <td>5</td>\n",
       "      <td>635</td>\n",
       "      <td>362970</td>\n",
       "      <td>5066886.0</td>\n",
       "      <td>562124.0</td>\n",
       "      <td>2021-01-01</td>\n",
       "    </tr>\n",
       "    <tr>\n",
       "      <th>4</th>\n",
       "      <td>Vellore</td>\n",
       "      <td>4</td>\n",
       "      <td>6</td>\n",
       "      <td>698</td>\n",
       "      <td>426252</td>\n",
       "      <td>7157691.9</td>\n",
       "      <td>753103.0</td>\n",
       "      <td>2021-01-01</td>\n",
       "    </tr>\n",
       "    <tr>\n",
       "      <th>...</th>\n",
       "      <td>...</td>\n",
       "      <td>...</td>\n",
       "      <td>...</td>\n",
       "      <td>...</td>\n",
       "      <td>...</td>\n",
       "      <td>...</td>\n",
       "      <td>...</td>\n",
       "      <td>...</td>\n",
       "    </tr>\n",
       "    <tr>\n",
       "      <th>1045</th>\n",
       "      <td>Kallakurichi</td>\n",
       "      <td>34</td>\n",
       "      <td>6</td>\n",
       "      <td>766</td>\n",
       "      <td>432176</td>\n",
       "      <td>1112427.5</td>\n",
       "      <td>17820.0</td>\n",
       "      <td>2023-03-01</td>\n",
       "    </tr>\n",
       "    <tr>\n",
       "      <th>1046</th>\n",
       "      <td>Ranipet</td>\n",
       "      <td>35</td>\n",
       "      <td>6</td>\n",
       "      <td>614</td>\n",
       "      <td>346440</td>\n",
       "      <td>1615519.0</td>\n",
       "      <td>11741.0</td>\n",
       "      <td>2023-03-01</td>\n",
       "    </tr>\n",
       "    <tr>\n",
       "      <th>1047</th>\n",
       "      <td>Tirupathur</td>\n",
       "      <td>36</td>\n",
       "      <td>4</td>\n",
       "      <td>509</td>\n",
       "      <td>331341</td>\n",
       "      <td>1423972.0</td>\n",
       "      <td>80849.5</td>\n",
       "      <td>2023-03-01</td>\n",
       "    </tr>\n",
       "    <tr>\n",
       "      <th>1048</th>\n",
       "      <td>Chengalpet</td>\n",
       "      <td>37</td>\n",
       "      <td>6</td>\n",
       "      <td>842</td>\n",
       "      <td>433980</td>\n",
       "      <td>1882312.0</td>\n",
       "      <td>8514.5</td>\n",
       "      <td>2023-03-01</td>\n",
       "    </tr>\n",
       "    <tr>\n",
       "      <th>1049</th>\n",
       "      <td>Mayiladuthurai</td>\n",
       "      <td>38</td>\n",
       "      <td>4</td>\n",
       "      <td>413</td>\n",
       "      <td>282786</td>\n",
       "      <td>1222227.0</td>\n",
       "      <td>16179.0</td>\n",
       "      <td>2023-03-01</td>\n",
       "    </tr>\n",
       "  </tbody>\n",
       "</table>\n",
       "<p>1050 rows × 8 columns</p>\n",
       "</div>"
      ],
      "text/plain": [
       "       DISTRICT NAME  DISTRICT CODE  TALUK COUNT  FPS COUNT  \\\n",
       "0        Thiruvallur              1            9       1117   \n",
       "1      North Chennai              2            9        952   \n",
       "2      South Chennai              2            8        816   \n",
       "3        Kanchipuram              3            5        635   \n",
       "4            Vellore              4            6        698   \n",
       "...              ...            ...          ...        ...   \n",
       "1045    Kallakurichi             34            6        766   \n",
       "1046         Ranipet             35            6        614   \n",
       "1047      Tirupathur             36            4        509   \n",
       "1048      Chengalpet             37            6        842   \n",
       "1049  Mayiladuthurai             38            4        413   \n",
       "\n",
       "      RATION CARD COUNT    RICE(KG)  WHEAT(KG)       Date  \n",
       "0                587173   9210582.2   515678.4 2021-01-01  \n",
       "1               1096558  10877337.0  1230985.0 2021-01-01  \n",
       "2                969272   8212479.5  1102172.5 2021-01-01  \n",
       "3                362970   5066886.0   562124.0 2021-01-01  \n",
       "4                426252   7157691.9   753103.0 2021-01-01  \n",
       "...                 ...         ...        ...        ...  \n",
       "1045             432176   1112427.5    17820.0 2023-03-01  \n",
       "1046             346440   1615519.0    11741.0 2023-03-01  \n",
       "1047             331341   1423972.0    80849.5 2023-03-01  \n",
       "1048             433980   1882312.0     8514.5 2023-03-01  \n",
       "1049             282786   1222227.0    16179.0 2023-03-01  \n",
       "\n",
       "[1050 rows x 8 columns]"
      ]
     },
     "execution_count": 4,
     "metadata": {},
     "output_type": "execute_result"
    }
   ],
   "source": [
    "df"
   ]
  },
  {
   "cell_type": "code",
   "execution_count": null,
   "id": "559965ce",
   "metadata": {},
   "outputs": [],
   "source": [
    "import matplotlib.pyplot as plt\n",
    "import seaborn as sb"
   ]
  },
  {
   "cell_type": "code",
   "execution_count": 6,
   "id": "899e53e1",
   "metadata": {},
   "outputs": [],
   "source": [
    "data_new=df.drop(['DISTRICT NAME', 'DISTRICT CODE'], axis=1)"
   ]
  },
  {
   "cell_type": "code",
   "execution_count": 9,
   "id": "d69f84cd",
   "metadata": {},
   "outputs": [
    {
     "data": {
      "text/plain": [
       "<AxesSubplot:>"
      ]
     },
     "execution_count": 9,
     "metadata": {},
     "output_type": "execute_result"
    },
    {
     "data": {
      "image/png": "[encoded data removed]",
      "text/plain": [
       "<Figure size 432x288 with 2 Axes>"
      ]
     },
     "metadata": {
      "needs_background": "light"
     },
     "output_type": "display_data"
    }
   ],
   "source": [
    "sb.heatmap(data_new.corr(), cmap=\"YlGnBu\", annot=True)"
   ]
  }
 ],
 "metadata": {
  "kernelspec": {
   "display_name": "Python 3 (ipykernel)",
   "language": "python",
   "name": "python3"
  },
  "language_info": {
   "codemirror_mode": {
    "name": "ipython",
    "version": 3
   },
   "file_extension": ".py",
   "mimetype": "text/x-python",
   "name": "python",
   "nbconvert_exporter": "python",
   "pygments_lexer": "ipython3",
   "version": "3.9.7"
  }
 },
 "nbformat": 4,
 "nbformat_minor": 5
}
